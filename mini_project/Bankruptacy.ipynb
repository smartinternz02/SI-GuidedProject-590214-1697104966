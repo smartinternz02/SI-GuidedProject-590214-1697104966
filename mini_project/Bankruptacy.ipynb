{
 "cells": [
  {
   "cell_type": "code",
   "execution_count": 38,
   "id": "1e8aa549",
   "metadata": {},
   "outputs": [],
   "source": [
    "from sklearn.preprocessing import StandardScaler \n",
    "import matplotlib.pyplot as plt # plotting \n",
    "import numpy as np # Linear algebra \n",
    "import os # accessing directory structure\n",
    "import pandas as pd # data processing, CSV file 1/0 (e.g. pd.read_csv)\n",
    "#Import the Libraries\n",
    "import numpy as np # Linear algebra\n",
    "import pandas as pd # data processing, CSV file 1/0 (e.g. pd.read_csv)\n",
    "import matplotlib.pyplot as plt \n",
    "import seaborn as sns\n",
    "from sklearn.preprocessing import StandardScaler\n",
    "from sklearn.model_selection import train_test_split, GridSearchCV \n",
    "from sklearn.metrics import f1_score, make_scorer, accuracy_score, recall_score, precision_score \n",
    "from sklearn.metrics import confusion_matrix \n",
    "from sklearn.neighbors import KNeighborsClassifier \n",
    "from sklearn.svm import SVC\n",
    "import random\n",
    "import warnings\n",
    "warnings.filterwarnings(\"ignore\")\n",
    "# Input data files are available in the read-only \"../input/\" directory\n",
    "# For example, running this (by clicking run or pressing Shift+Enter) will list all files under the\n",
    "\n",
    "#input directory"
   ]
  },
  {
   "cell_type": "code",
   "execution_count": 39,
   "id": "7b24edd4",
   "metadata": {},
   "outputs": [],
   "source": [
    "data=pd.read_csv(\"C://Users//Archana//OneDrive//Desktop//mini_project//archive//1year.csv\")"
   ]
  },
  {
   "cell_type": "code",
   "execution_count": 40,
   "id": "e006127a",
   "metadata": {},
   "outputs": [
    {
     "data": {
      "text/html": [
       "<div>\n",
       "<style scoped>\n",
       "    .dataframe tbody tr th:only-of-type {\n",
       "        vertical-align: middle;\n",
       "    }\n",
       "\n",
       "    .dataframe tbody tr th {\n",
       "        vertical-align: top;\n",
       "    }\n",
       "\n",
       "    .dataframe thead th {\n",
       "        text-align: right;\n",
       "    }\n",
       "</style>\n",
       "<table border=\"1\" class=\"dataframe\">\n",
       "  <thead>\n",
       "    <tr style=\"text-align: right;\">\n",
       "      <th></th>\n",
       "      <th>Attr1</th>\n",
       "      <th>Attr2</th>\n",
       "      <th>Attr3</th>\n",
       "      <th>Attr4</th>\n",
       "      <th>Attr5</th>\n",
       "      <th>Attr6</th>\n",
       "      <th>Attr7</th>\n",
       "      <th>Attr8</th>\n",
       "      <th>Attr9</th>\n",
       "      <th>Attr10</th>\n",
       "      <th>...</th>\n",
       "      <th>Attr56</th>\n",
       "      <th>Attr57</th>\n",
       "      <th>Attr58</th>\n",
       "      <th>Attr59</th>\n",
       "      <th>Attr60</th>\n",
       "      <th>Attr61</th>\n",
       "      <th>Attr62</th>\n",
       "      <th>Attr63</th>\n",
       "      <th>Attr64</th>\n",
       "      <th>class</th>\n",
       "    </tr>\n",
       "  </thead>\n",
       "  <tbody>\n",
       "    <tr>\n",
       "      <th>0</th>\n",
       "      <td>0.20055</td>\n",
       "      <td>0.37951</td>\n",
       "      <td>0.39641</td>\n",
       "      <td>2.0472</td>\n",
       "      <td>32.351</td>\n",
       "      <td>0.38825</td>\n",
       "      <td>0.24976</td>\n",
       "      <td>1.3305</td>\n",
       "      <td>1.1389</td>\n",
       "      <td>0.50494</td>\n",
       "      <td>...</td>\n",
       "      <td>0.121960</td>\n",
       "      <td>0.39718</td>\n",
       "      <td>0.87804</td>\n",
       "      <td>0.001924</td>\n",
       "      <td>8.416</td>\n",
       "      <td>5.1372</td>\n",
       "      <td>82.658</td>\n",
       "      <td>4.4158</td>\n",
       "      <td>7.4277</td>\n",
       "      <td>0</td>\n",
       "    </tr>\n",
       "    <tr>\n",
       "      <th>1</th>\n",
       "      <td>0.20912</td>\n",
       "      <td>0.49988</td>\n",
       "      <td>0.47225</td>\n",
       "      <td>1.9447</td>\n",
       "      <td>14.786</td>\n",
       "      <td>0</td>\n",
       "      <td>0.25834</td>\n",
       "      <td>0.99601</td>\n",
       "      <td>1.6996</td>\n",
       "      <td>0.49788</td>\n",
       "      <td>...</td>\n",
       "      <td>0.121300</td>\n",
       "      <td>0.42002</td>\n",
       "      <td>0.85300</td>\n",
       "      <td>0</td>\n",
       "      <td>4.1486</td>\n",
       "      <td>3.2732</td>\n",
       "      <td>107.350</td>\n",
       "      <td>3.4</td>\n",
       "      <td>60.987</td>\n",
       "      <td>0</td>\n",
       "    </tr>\n",
       "    <tr>\n",
       "      <th>2</th>\n",
       "      <td>0.24866</td>\n",
       "      <td>0.69592</td>\n",
       "      <td>0.26713</td>\n",
       "      <td>1.5548</td>\n",
       "      <td>-1.1523</td>\n",
       "      <td>0</td>\n",
       "      <td>0.30906</td>\n",
       "      <td>0.43695</td>\n",
       "      <td>1.309</td>\n",
       "      <td>0.30408</td>\n",
       "      <td>...</td>\n",
       "      <td>0.241140</td>\n",
       "      <td>0.81774</td>\n",
       "      <td>0.76599</td>\n",
       "      <td>0.69484</td>\n",
       "      <td>4.9909</td>\n",
       "      <td>3.951</td>\n",
       "      <td>134.270</td>\n",
       "      <td>2.7185</td>\n",
       "      <td>5.2078</td>\n",
       "      <td>0</td>\n",
       "    </tr>\n",
       "    <tr>\n",
       "      <th>3</th>\n",
       "      <td>0.081483</td>\n",
       "      <td>0.30734</td>\n",
       "      <td>0.45879</td>\n",
       "      <td>2.4928</td>\n",
       "      <td>51.952</td>\n",
       "      <td>0.14988</td>\n",
       "      <td>0.092704</td>\n",
       "      <td>1.8661</td>\n",
       "      <td>1.0571</td>\n",
       "      <td>0.57353</td>\n",
       "      <td>...</td>\n",
       "      <td>0.054015</td>\n",
       "      <td>0.14207</td>\n",
       "      <td>0.94598</td>\n",
       "      <td>0</td>\n",
       "      <td>4.5746</td>\n",
       "      <td>3.6147</td>\n",
       "      <td>86.435</td>\n",
       "      <td>4.2228</td>\n",
       "      <td>5.5497</td>\n",
       "      <td>0</td>\n",
       "    </tr>\n",
       "    <tr>\n",
       "      <th>4</th>\n",
       "      <td>0.18732</td>\n",
       "      <td>0.61323</td>\n",
       "      <td>0.2296</td>\n",
       "      <td>1.4063</td>\n",
       "      <td>-7.3128</td>\n",
       "      <td>0.18732</td>\n",
       "      <td>0.18732</td>\n",
       "      <td>0.6307</td>\n",
       "      <td>1.1559</td>\n",
       "      <td>0.38677</td>\n",
       "      <td>...</td>\n",
       "      <td>0.134850</td>\n",
       "      <td>0.48431</td>\n",
       "      <td>0.86515</td>\n",
       "      <td>0.12444</td>\n",
       "      <td>6.3985</td>\n",
       "      <td>4.3158</td>\n",
       "      <td>127.210</td>\n",
       "      <td>2.8692</td>\n",
       "      <td>7.898</td>\n",
       "      <td>0</td>\n",
       "    </tr>\n",
       "    <tr>\n",
       "      <th>...</th>\n",
       "      <td>...</td>\n",
       "      <td>...</td>\n",
       "      <td>...</td>\n",
       "      <td>...</td>\n",
       "      <td>...</td>\n",
       "      <td>...</td>\n",
       "      <td>...</td>\n",
       "      <td>...</td>\n",
       "      <td>...</td>\n",
       "      <td>...</td>\n",
       "      <td>...</td>\n",
       "      <td>...</td>\n",
       "      <td>...</td>\n",
       "      <td>...</td>\n",
       "      <td>...</td>\n",
       "      <td>...</td>\n",
       "      <td>...</td>\n",
       "      <td>...</td>\n",
       "      <td>...</td>\n",
       "      <td>...</td>\n",
       "      <td>...</td>\n",
       "    </tr>\n",
       "    <tr>\n",
       "      <th>7007</th>\n",
       "      <td>0.038665</td>\n",
       "      <td>0.071884</td>\n",
       "      <td>0.48884</td>\n",
       "      <td>7.8004</td>\n",
       "      <td>221.01</td>\n",
       "      <td>0.038665</td>\n",
       "      <td>0.045892</td>\n",
       "      <td>11.068</td>\n",
       "      <td>1.0765</td>\n",
       "      <td>0.7956</td>\n",
       "      <td>...</td>\n",
       "      <td>0.071070</td>\n",
       "      <td>0.048599</td>\n",
       "      <td>0.92893</td>\n",
       "      <td>0</td>\n",
       "      <td>2.147</td>\n",
       "      <td>1.4679</td>\n",
       "      <td>53.735</td>\n",
       "      <td>6.7926</td>\n",
       "      <td>1.1116</td>\n",
       "      <td>1</td>\n",
       "    </tr>\n",
       "    <tr>\n",
       "      <th>7008</th>\n",
       "      <td>0.001091</td>\n",
       "      <td>0.8516</td>\n",
       "      <td>0.003463</td>\n",
       "      <td>1.0086</td>\n",
       "      <td>-44.467</td>\n",
       "      <td>0.086248</td>\n",
       "      <td>0.001091</td>\n",
       "      <td>0.17429</td>\n",
       "      <td>1.0297</td>\n",
       "      <td>0.14842</td>\n",
       "      <td>...</td>\n",
       "      <td>-0.198900</td>\n",
       "      <td>0.007349</td>\n",
       "      <td>0.97403</td>\n",
       "      <td>2.0331</td>\n",
       "      <td>6.8515</td>\n",
       "      <td>4.1096</td>\n",
       "      <td>142.830</td>\n",
       "      <td>2.5556</td>\n",
       "      <td>1.7346</td>\n",
       "      <td>1</td>\n",
       "    </tr>\n",
       "    <tr>\n",
       "      <th>7009</th>\n",
       "      <td>-0.091442</td>\n",
       "      <td>0.7055</td>\n",
       "      <td>-0.047216</td>\n",
       "      <td>0.92568</td>\n",
       "      <td>-7.2952</td>\n",
       "      <td>0</td>\n",
       "      <td>-0.090374</td>\n",
       "      <td>0.41744</td>\n",
       "      <td>9.1345</td>\n",
       "      <td>0.2945</td>\n",
       "      <td>...</td>\n",
       "      <td>0.000966</td>\n",
       "      <td>-0.31049</td>\n",
       "      <td>1.00740</td>\n",
       "      <td>0.077583</td>\n",
       "      <td>72.893</td>\n",
       "      <td>20.79</td>\n",
       "      <td>25.384</td>\n",
       "      <td>14.379</td>\n",
       "      <td>22.18</td>\n",
       "      <td>1</td>\n",
       "    </tr>\n",
       "    <tr>\n",
       "      <th>7010</th>\n",
       "      <td>0.13809</td>\n",
       "      <td>3.3357</td>\n",
       "      <td>-2.364</td>\n",
       "      <td>0.29128</td>\n",
       "      <td>-88.382</td>\n",
       "      <td>-3.3963</td>\n",
       "      <td>0.13809</td>\n",
       "      <td>-0.70021</td>\n",
       "      <td>9.9852</td>\n",
       "      <td>-2.3357</td>\n",
       "      <td>...</td>\n",
       "      <td>0.011347</td>\n",
       "      <td>-0.059122</td>\n",
       "      <td>0.97866</td>\n",
       "      <td>0</td>\n",
       "      <td>231.9</td>\n",
       "      <td>12.651</td>\n",
       "      <td>121.930</td>\n",
       "      <td>2.9935</td>\n",
       "      <td>351.85</td>\n",
       "      <td>1</td>\n",
       "    </tr>\n",
       "    <tr>\n",
       "      <th>7011</th>\n",
       "      <td>0.098271</td>\n",
       "      <td>0.8333</td>\n",
       "      <td>0.000426</td>\n",
       "      <td>1.0005</td>\n",
       "      <td>-43.191</td>\n",
       "      <td>0</td>\n",
       "      <td>0.12838</td>\n",
       "      <td>0.20019</td>\n",
       "      <td>2.5144</td>\n",
       "      <td>0.16682</td>\n",
       "      <td>...</td>\n",
       "      <td>0.150320</td>\n",
       "      <td>0.58909</td>\n",
       "      <td>0.85877</td>\n",
       "      <td>0</td>\n",
       "      <td>9.2728</td>\n",
       "      <td>4.9207</td>\n",
       "      <td>116.480</td>\n",
       "      <td>3.1336</td>\n",
       "      <td>12.748</td>\n",
       "      <td>1</td>\n",
       "    </tr>\n",
       "  </tbody>\n",
       "</table>\n",
       "<p>7012 rows × 65 columns</p>\n",
       "</div>"
      ],
      "text/plain": [
       "          Attr1     Attr2      Attr3    Attr4    Attr5     Attr6      Attr7  \\\n",
       "0       0.20055   0.37951    0.39641   2.0472   32.351   0.38825    0.24976   \n",
       "1       0.20912   0.49988    0.47225   1.9447   14.786         0    0.25834   \n",
       "2       0.24866   0.69592    0.26713   1.5548  -1.1523         0    0.30906   \n",
       "3      0.081483   0.30734    0.45879   2.4928   51.952   0.14988   0.092704   \n",
       "4       0.18732   0.61323     0.2296   1.4063  -7.3128   0.18732    0.18732   \n",
       "...         ...       ...        ...      ...      ...       ...        ...   \n",
       "7007   0.038665  0.071884    0.48884   7.8004   221.01  0.038665   0.045892   \n",
       "7008   0.001091    0.8516   0.003463   1.0086  -44.467  0.086248   0.001091   \n",
       "7009  -0.091442    0.7055  -0.047216  0.92568  -7.2952         0  -0.090374   \n",
       "7010    0.13809    3.3357     -2.364  0.29128  -88.382   -3.3963    0.13809   \n",
       "7011   0.098271    0.8333   0.000426   1.0005  -43.191         0    0.12838   \n",
       "\n",
       "         Attr8   Attr9   Attr10  ...    Attr56     Attr57   Attr58    Attr59  \\\n",
       "0       1.3305  1.1389  0.50494  ...  0.121960    0.39718  0.87804  0.001924   \n",
       "1      0.99601  1.6996  0.49788  ...  0.121300    0.42002  0.85300         0   \n",
       "2      0.43695   1.309  0.30408  ...  0.241140    0.81774  0.76599   0.69484   \n",
       "3       1.8661  1.0571  0.57353  ...  0.054015    0.14207  0.94598         0   \n",
       "4       0.6307  1.1559  0.38677  ...  0.134850    0.48431  0.86515   0.12444   \n",
       "...        ...     ...      ...  ...       ...        ...      ...       ...   \n",
       "7007    11.068  1.0765   0.7956  ...  0.071070   0.048599  0.92893         0   \n",
       "7008   0.17429  1.0297  0.14842  ... -0.198900   0.007349  0.97403    2.0331   \n",
       "7009   0.41744  9.1345   0.2945  ...  0.000966   -0.31049  1.00740  0.077583   \n",
       "7010  -0.70021  9.9852  -2.3357  ...  0.011347  -0.059122  0.97866         0   \n",
       "7011   0.20019  2.5144  0.16682  ...  0.150320    0.58909  0.85877         0   \n",
       "\n",
       "      Attr60  Attr61   Attr62  Attr63  Attr64  class  \n",
       "0      8.416  5.1372   82.658  4.4158  7.4277      0  \n",
       "1     4.1486  3.2732  107.350     3.4  60.987      0  \n",
       "2     4.9909   3.951  134.270  2.7185  5.2078      0  \n",
       "3     4.5746  3.6147   86.435  4.2228  5.5497      0  \n",
       "4     6.3985  4.3158  127.210  2.8692   7.898      0  \n",
       "...      ...     ...      ...     ...     ...    ...  \n",
       "7007   2.147  1.4679   53.735  6.7926  1.1116      1  \n",
       "7008  6.8515  4.1096  142.830  2.5556  1.7346      1  \n",
       "7009  72.893   20.79   25.384  14.379   22.18      1  \n",
       "7010   231.9  12.651  121.930  2.9935  351.85      1  \n",
       "7011  9.2728  4.9207  116.480  3.1336  12.748      1  \n",
       "\n",
       "[7012 rows x 65 columns]"
      ]
     },
     "execution_count": 40,
     "metadata": {},
     "output_type": "execute_result"
    }
   ],
   "source": [
    "data"
   ]
  },
  {
   "cell_type": "code",
   "execution_count": 41,
   "id": "9034150d",
   "metadata": {},
   "outputs": [
    {
     "name": "stdout",
     "output_type": "stream",
     "text": [
      "<class 'pandas.core.frame.DataFrame'>\n",
      "RangeIndex: 7012 entries, 0 to 7011\n",
      "Data columns (total 65 columns):\n",
      " #   Column  Non-Null Count  Dtype  \n",
      "---  ------  --------------  -----  \n",
      " 0   Attr1   7012 non-null   object \n",
      " 1   Attr2   7012 non-null   object \n",
      " 2   Attr3   7012 non-null   object \n",
      " 3   Attr4   7012 non-null   object \n",
      " 4   Attr5   7012 non-null   object \n",
      " 5   Attr6   7012 non-null   object \n",
      " 6   Attr7   7012 non-null   object \n",
      " 7   Attr8   7012 non-null   object \n",
      " 8   Attr9   7012 non-null   object \n",
      " 9   Attr10  7012 non-null   object \n",
      " 10  Attr11  7012 non-null   object \n",
      " 11  Attr12  7012 non-null   object \n",
      " 12  Attr13  7012 non-null   float64\n",
      " 13  Attr14  7012 non-null   object \n",
      " 14  Attr15  7012 non-null   object \n",
      " 15  Attr16  7012 non-null   object \n",
      " 16  Attr17  7012 non-null   object \n",
      " 17  Attr18  7012 non-null   object \n",
      " 18  Attr19  7012 non-null   float64\n",
      " 19  Attr20  7012 non-null   float64\n",
      " 20  Attr21  7012 non-null   object \n",
      " 21  Attr22  7012 non-null   object \n",
      " 22  Attr23  7012 non-null   float64\n",
      " 23  Attr24  7012 non-null   object \n",
      " 24  Attr25  7012 non-null   object \n",
      " 25  Attr26  7012 non-null   object \n",
      " 26  Attr27  7012 non-null   object \n",
      " 27  Attr28  7012 non-null   object \n",
      " 28  Attr29  7012 non-null   object \n",
      " 29  Attr30  7012 non-null   float64\n",
      " 30  Attr31  7012 non-null   float64\n",
      " 31  Attr32  7012 non-null   object \n",
      " 32  Attr33  7012 non-null   object \n",
      " 33  Attr34  7012 non-null   object \n",
      " 34  Attr35  7012 non-null   object \n",
      " 35  Attr36  7012 non-null   object \n",
      " 36  Attr37  7012 non-null   object \n",
      " 37  Attr38  7012 non-null   object \n",
      " 38  Attr39  7012 non-null   float64\n",
      " 39  Attr40  7012 non-null   object \n",
      " 40  Attr41  7012 non-null   object \n",
      " 41  Attr42  7012 non-null   float64\n",
      " 42  Attr43  7012 non-null   float64\n",
      " 43  Attr44  7012 non-null   float64\n",
      " 44  Attr45  7012 non-null   object \n",
      " 45  Attr46  7012 non-null   object \n",
      " 46  Attr47  7012 non-null   object \n",
      " 47  Attr48  7012 non-null   object \n",
      " 48  Attr49  7012 non-null   float64\n",
      " 49  Attr50  7012 non-null   object \n",
      " 50  Attr51  7012 non-null   object \n",
      " 51  Attr52  7012 non-null   object \n",
      " 52  Attr53  7012 non-null   object \n",
      " 53  Attr54  7012 non-null   object \n",
      " 54  Attr55  7012 non-null   float64\n",
      " 55  Attr56  7012 non-null   float64\n",
      " 56  Attr57  7012 non-null   object \n",
      " 57  Attr58  7012 non-null   float64\n",
      " 58  Attr59  7012 non-null   object \n",
      " 59  Attr60  7012 non-null   object \n",
      " 60  Attr61  7012 non-null   object \n",
      " 61  Attr62  7012 non-null   float64\n",
      " 62  Attr63  7012 non-null   object \n",
      " 63  Attr64  7012 non-null   object \n",
      " 64  class   7012 non-null   int64  \n",
      "dtypes: float64(15), int64(1), object(49)\n",
      "memory usage: 3.5+ MB\n"
     ]
    }
   ],
   "source": [
    "data.info()"
   ]
  },
  {
   "cell_type": "code",
   "execution_count": 42,
   "id": "116cb07c",
   "metadata": {},
   "outputs": [
    {
     "data": {
      "text/plain": [
       "(7012, 65)"
      ]
     },
     "execution_count": 42,
     "metadata": {},
     "output_type": "execute_result"
    }
   ],
   "source": [
    "data.shape"
   ]
  },
  {
   "cell_type": "code",
   "execution_count": 43,
   "id": "fe247c79",
   "metadata": {},
   "outputs": [
    {
     "name": "stdout",
     "output_type": "stream",
     "text": [
      "Shape of Data:  (7012, 65)\n",
      "Number of Rows:  7012\n",
      "Number of Columns: 65\n"
     ]
    }
   ],
   "source": [
    "print(\"Shape of Data: \",data.shape) \n",
    "r, c = data. shape\n",
    "print(\"Number of Rows: \",r)\n",
    "print(\"Number of Columns:\",c)"
   ]
  },
  {
   "cell_type": "code",
   "execution_count": 44,
   "id": "710624bc",
   "metadata": {},
   "outputs": [
    {
     "name": "stdout",
     "output_type": "stream",
     "text": [
      "<class 'pandas.core.frame.DataFrame'>\n",
      "RangeIndex: 7012 entries, 0 to 7011\n",
      "Data columns (total 65 columns):\n",
      " #   Column  Non-Null Count  Dtype  \n",
      "---  ------  --------------  -----  \n",
      " 0   Attr1   7012 non-null   object \n",
      " 1   Attr2   7012 non-null   object \n",
      " 2   Attr3   7012 non-null   object \n",
      " 3   Attr4   7012 non-null   object \n",
      " 4   Attr5   7012 non-null   object \n",
      " 5   Attr6   7012 non-null   object \n",
      " 6   Attr7   7012 non-null   object \n",
      " 7   Attr8   7012 non-null   object \n",
      " 8   Attr9   7012 non-null   object \n",
      " 9   Attr10  7012 non-null   object \n",
      " 10  Attr11  7012 non-null   object \n",
      " 11  Attr12  7012 non-null   object \n",
      " 12  Attr13  7012 non-null   float64\n",
      " 13  Attr14  7012 non-null   object \n",
      " 14  Attr15  7012 non-null   object \n",
      " 15  Attr16  7012 non-null   object \n",
      " 16  Attr17  7012 non-null   object \n",
      " 17  Attr18  7012 non-null   object \n",
      " 18  Attr19  7012 non-null   float64\n",
      " 19  Attr20  7012 non-null   float64\n",
      " 20  Attr21  7012 non-null   object \n",
      " 21  Attr22  7012 non-null   object \n",
      " 22  Attr23  7012 non-null   float64\n",
      " 23  Attr24  7012 non-null   object \n",
      " 24  Attr25  7012 non-null   object \n",
      " 25  Attr26  7012 non-null   object \n",
      " 26  Attr27  7012 non-null   object \n",
      " 27  Attr28  7012 non-null   object \n",
      " 28  Attr29  7012 non-null   object \n",
      " 29  Attr30  7012 non-null   float64\n",
      " 30  Attr31  7012 non-null   float64\n",
      " 31  Attr32  7012 non-null   object \n",
      " 32  Attr33  7012 non-null   object \n",
      " 33  Attr34  7012 non-null   object \n",
      " 34  Attr35  7012 non-null   object \n",
      " 35  Attr36  7012 non-null   object \n",
      " 36  Attr37  7012 non-null   object \n",
      " 37  Attr38  7012 non-null   object \n",
      " 38  Attr39  7012 non-null   float64\n",
      " 39  Attr40  7012 non-null   object \n",
      " 40  Attr41  7012 non-null   object \n",
      " 41  Attr42  7012 non-null   float64\n",
      " 42  Attr43  7012 non-null   float64\n",
      " 43  Attr44  7012 non-null   float64\n",
      " 44  Attr45  7012 non-null   object \n",
      " 45  Attr46  7012 non-null   object \n",
      " 46  Attr47  7012 non-null   object \n",
      " 47  Attr48  7012 non-null   object \n",
      " 48  Attr49  7012 non-null   float64\n",
      " 49  Attr50  7012 non-null   object \n",
      " 50  Attr51  7012 non-null   object \n",
      " 51  Attr52  7012 non-null   object \n",
      " 52  Attr53  7012 non-null   object \n",
      " 53  Attr54  7012 non-null   object \n",
      " 54  Attr55  7012 non-null   float64\n",
      " 55  Attr56  7012 non-null   float64\n",
      " 56  Attr57  7012 non-null   object \n",
      " 57  Attr58  7012 non-null   float64\n",
      " 58  Attr59  7012 non-null   object \n",
      " 59  Attr60  7012 non-null   object \n",
      " 60  Attr61  7012 non-null   object \n",
      " 61  Attr62  7012 non-null   float64\n",
      " 62  Attr63  7012 non-null   object \n",
      " 63  Attr64  7012 non-null   object \n",
      " 64  class   7012 non-null   int64  \n",
      "dtypes: float64(15), int64(1), object(49)\n",
      "memory usage: 3.5+ MB\n"
     ]
    }
   ],
   "source": [
    "data.info()"
   ]
  },
  {
   "cell_type": "code",
   "execution_count": 45,
   "id": "68138fe4",
   "metadata": {},
   "outputs": [
    {
     "data": {
      "text/plain": [
       "Attr1     0\n",
       "Attr2     0\n",
       "Attr3     0\n",
       "Attr4     0\n",
       "Attr5     0\n",
       "         ..\n",
       "Attr61    0\n",
       "Attr62    0\n",
       "Attr63    0\n",
       "Attr64    0\n",
       "class     0\n",
       "Length: 65, dtype: int64"
      ]
     },
     "execution_count": 45,
     "metadata": {},
     "output_type": "execute_result"
    }
   ],
   "source": [
    "data.isnull().sum()"
   ]
  },
  {
   "cell_type": "code",
   "execution_count": 46,
   "id": "b4fd562d",
   "metadata": {},
   "outputs": [
    {
     "data": {
      "text/plain": [
       "Attr1     0\n",
       "Attr2     0\n",
       "Attr3     0\n",
       "Attr4     0\n",
       "Attr5     0\n",
       "         ..\n",
       "Attr61    0\n",
       "Attr62    0\n",
       "Attr63    0\n",
       "Attr64    0\n",
       "class     0\n",
       "Length: 65, dtype: int64"
      ]
     },
     "execution_count": 46,
     "metadata": {},
     "output_type": "execute_result"
    }
   ],
   "source": [
    "data.isnull().sum()"
   ]
  },
  {
   "cell_type": "code",
   "execution_count": 47,
   "id": "632807ac",
   "metadata": {},
   "outputs": [
    {
     "data": {
      "text/plain": [
       "Attr1      True\n",
       "Attr2      True\n",
       "Attr3      True\n",
       "Attr4      True\n",
       "Attr5      True\n",
       "          ...  \n",
       "Attr61     True\n",
       "Attr62    False\n",
       "Attr63     True\n",
       "Attr64     True\n",
       "class     False\n",
       "Length: 65, dtype: bool"
      ]
     },
     "execution_count": 47,
     "metadata": {},
     "output_type": "execute_result"
    }
   ],
   "source": [
    "(data.eq('?')).any()"
   ]
  },
  {
   "cell_type": "code",
   "execution_count": 48,
   "id": "3c3e4235",
   "metadata": {},
   "outputs": [],
   "source": [
    "data.replace('?',0,inplace=True)"
   ]
  },
  {
   "cell_type": "code",
   "execution_count": 49,
   "id": "2247860d",
   "metadata": {},
   "outputs": [
    {
     "data": {
      "text/html": [
       "<div>\n",
       "<style scoped>\n",
       "    .dataframe tbody tr th:only-of-type {\n",
       "        vertical-align: middle;\n",
       "    }\n",
       "\n",
       "    .dataframe tbody tr th {\n",
       "        vertical-align: top;\n",
       "    }\n",
       "\n",
       "    .dataframe thead th {\n",
       "        text-align: right;\n",
       "    }\n",
       "</style>\n",
       "<table border=\"1\" class=\"dataframe\">\n",
       "  <thead>\n",
       "    <tr style=\"text-align: right;\">\n",
       "      <th></th>\n",
       "      <th>Attr1</th>\n",
       "      <th>Attr2</th>\n",
       "      <th>Attr3</th>\n",
       "      <th>Attr4</th>\n",
       "      <th>Attr5</th>\n",
       "      <th>Attr6</th>\n",
       "      <th>Attr7</th>\n",
       "      <th>Attr8</th>\n",
       "      <th>Attr9</th>\n",
       "      <th>Attr10</th>\n",
       "      <th>...</th>\n",
       "      <th>Attr56</th>\n",
       "      <th>Attr57</th>\n",
       "      <th>Attr58</th>\n",
       "      <th>Attr59</th>\n",
       "      <th>Attr60</th>\n",
       "      <th>Attr61</th>\n",
       "      <th>Attr62</th>\n",
       "      <th>Attr63</th>\n",
       "      <th>Attr64</th>\n",
       "      <th>class</th>\n",
       "    </tr>\n",
       "  </thead>\n",
       "  <tbody>\n",
       "    <tr>\n",
       "      <th>0</th>\n",
       "      <td>0.20055</td>\n",
       "      <td>0.37951</td>\n",
       "      <td>0.39641</td>\n",
       "      <td>2.0472</td>\n",
       "      <td>32.351</td>\n",
       "      <td>0.38825</td>\n",
       "      <td>0.24976</td>\n",
       "      <td>1.3305</td>\n",
       "      <td>1.1389</td>\n",
       "      <td>0.50494</td>\n",
       "      <td>...</td>\n",
       "      <td>0.121960</td>\n",
       "      <td>0.39718</td>\n",
       "      <td>0.87804</td>\n",
       "      <td>0.001924</td>\n",
       "      <td>8.416</td>\n",
       "      <td>5.1372</td>\n",
       "      <td>82.658</td>\n",
       "      <td>4.4158</td>\n",
       "      <td>7.4277</td>\n",
       "      <td>0</td>\n",
       "    </tr>\n",
       "    <tr>\n",
       "      <th>1</th>\n",
       "      <td>0.20912</td>\n",
       "      <td>0.49988</td>\n",
       "      <td>0.47225</td>\n",
       "      <td>1.9447</td>\n",
       "      <td>14.786</td>\n",
       "      <td>0</td>\n",
       "      <td>0.25834</td>\n",
       "      <td>0.99601</td>\n",
       "      <td>1.6996</td>\n",
       "      <td>0.49788</td>\n",
       "      <td>...</td>\n",
       "      <td>0.121300</td>\n",
       "      <td>0.42002</td>\n",
       "      <td>0.85300</td>\n",
       "      <td>0</td>\n",
       "      <td>4.1486</td>\n",
       "      <td>3.2732</td>\n",
       "      <td>107.350</td>\n",
       "      <td>3.4</td>\n",
       "      <td>60.987</td>\n",
       "      <td>0</td>\n",
       "    </tr>\n",
       "    <tr>\n",
       "      <th>2</th>\n",
       "      <td>0.24866</td>\n",
       "      <td>0.69592</td>\n",
       "      <td>0.26713</td>\n",
       "      <td>1.5548</td>\n",
       "      <td>-1.1523</td>\n",
       "      <td>0</td>\n",
       "      <td>0.30906</td>\n",
       "      <td>0.43695</td>\n",
       "      <td>1.309</td>\n",
       "      <td>0.30408</td>\n",
       "      <td>...</td>\n",
       "      <td>0.241140</td>\n",
       "      <td>0.81774</td>\n",
       "      <td>0.76599</td>\n",
       "      <td>0.69484</td>\n",
       "      <td>4.9909</td>\n",
       "      <td>3.951</td>\n",
       "      <td>134.270</td>\n",
       "      <td>2.7185</td>\n",
       "      <td>5.2078</td>\n",
       "      <td>0</td>\n",
       "    </tr>\n",
       "    <tr>\n",
       "      <th>3</th>\n",
       "      <td>0.081483</td>\n",
       "      <td>0.30734</td>\n",
       "      <td>0.45879</td>\n",
       "      <td>2.4928</td>\n",
       "      <td>51.952</td>\n",
       "      <td>0.14988</td>\n",
       "      <td>0.092704</td>\n",
       "      <td>1.8661</td>\n",
       "      <td>1.0571</td>\n",
       "      <td>0.57353</td>\n",
       "      <td>...</td>\n",
       "      <td>0.054015</td>\n",
       "      <td>0.14207</td>\n",
       "      <td>0.94598</td>\n",
       "      <td>0</td>\n",
       "      <td>4.5746</td>\n",
       "      <td>3.6147</td>\n",
       "      <td>86.435</td>\n",
       "      <td>4.2228</td>\n",
       "      <td>5.5497</td>\n",
       "      <td>0</td>\n",
       "    </tr>\n",
       "    <tr>\n",
       "      <th>4</th>\n",
       "      <td>0.18732</td>\n",
       "      <td>0.61323</td>\n",
       "      <td>0.2296</td>\n",
       "      <td>1.4063</td>\n",
       "      <td>-7.3128</td>\n",
       "      <td>0.18732</td>\n",
       "      <td>0.18732</td>\n",
       "      <td>0.6307</td>\n",
       "      <td>1.1559</td>\n",
       "      <td>0.38677</td>\n",
       "      <td>...</td>\n",
       "      <td>0.134850</td>\n",
       "      <td>0.48431</td>\n",
       "      <td>0.86515</td>\n",
       "      <td>0.12444</td>\n",
       "      <td>6.3985</td>\n",
       "      <td>4.3158</td>\n",
       "      <td>127.210</td>\n",
       "      <td>2.8692</td>\n",
       "      <td>7.898</td>\n",
       "      <td>0</td>\n",
       "    </tr>\n",
       "  </tbody>\n",
       "</table>\n",
       "<p>5 rows × 65 columns</p>\n",
       "</div>"
      ],
      "text/plain": [
       "      Attr1    Attr2    Attr3   Attr4    Attr5    Attr6     Attr7    Attr8  \\\n",
       "0   0.20055  0.37951  0.39641  2.0472   32.351  0.38825   0.24976   1.3305   \n",
       "1   0.20912  0.49988  0.47225  1.9447   14.786        0   0.25834  0.99601   \n",
       "2   0.24866  0.69592  0.26713  1.5548  -1.1523        0   0.30906  0.43695   \n",
       "3  0.081483  0.30734  0.45879  2.4928   51.952  0.14988  0.092704   1.8661   \n",
       "4   0.18732  0.61323   0.2296  1.4063  -7.3128  0.18732   0.18732   0.6307   \n",
       "\n",
       "    Attr9   Attr10  ...    Attr56   Attr57   Attr58    Attr59  Attr60  Attr61  \\\n",
       "0  1.1389  0.50494  ...  0.121960  0.39718  0.87804  0.001924   8.416  5.1372   \n",
       "1  1.6996  0.49788  ...  0.121300  0.42002  0.85300         0  4.1486  3.2732   \n",
       "2   1.309  0.30408  ...  0.241140  0.81774  0.76599   0.69484  4.9909   3.951   \n",
       "3  1.0571  0.57353  ...  0.054015  0.14207  0.94598         0  4.5746  3.6147   \n",
       "4  1.1559  0.38677  ...  0.134850  0.48431  0.86515   0.12444  6.3985  4.3158   \n",
       "\n",
       "    Attr62  Attr63  Attr64  class  \n",
       "0   82.658  4.4158  7.4277      0  \n",
       "1  107.350     3.4  60.987      0  \n",
       "2  134.270  2.7185  5.2078      0  \n",
       "3   86.435  4.2228  5.5497      0  \n",
       "4  127.210  2.8692   7.898      0  \n",
       "\n",
       "[5 rows x 65 columns]"
      ]
     },
     "execution_count": 49,
     "metadata": {},
     "output_type": "execute_result"
    }
   ],
   "source": [
    "data.head()"
   ]
  },
  {
   "cell_type": "code",
   "execution_count": 50,
   "id": "18b81e07",
   "metadata": {},
   "outputs": [],
   "source": [
    "data.replace('?',0,inplace=True)"
   ]
  },
  {
   "cell_type": "code",
   "execution_count": 51,
   "id": "15b070df",
   "metadata": {},
   "outputs": [
    {
     "data": {
      "text/plain": [
       "Attr1     0\n",
       "Attr2     0\n",
       "Attr3     0\n",
       "Attr4     0\n",
       "Attr5     0\n",
       "         ..\n",
       "Attr61    0\n",
       "Attr62    0\n",
       "Attr63    0\n",
       "Attr64    0\n",
       "class     0\n",
       "Length: 65, dtype: int64"
      ]
     },
     "execution_count": 51,
     "metadata": {},
     "output_type": "execute_result"
    }
   ],
   "source": [
    "data.isnull().sum()"
   ]
  },
  {
   "cell_type": "code",
   "execution_count": 52,
   "id": "57a713ef",
   "metadata": {},
   "outputs": [
    {
     "data": {
      "text/plain": [
       "0"
      ]
     },
     "execution_count": 52,
     "metadata": {},
     "output_type": "execute_result"
    }
   ],
   "source": [
    "data.isnull().sum().sum()"
   ]
  },
  {
   "cell_type": "code",
   "execution_count": 53,
   "id": "1d5122e8",
   "metadata": {},
   "outputs": [],
   "source": [
    "temp = ['Attr1', 'Attr2', 'Attr3', 'Attr4', 'Attr5', 'Attr6', 'Attr7', 'Attr8', 'Attr9', 'Attr10','class']\n",
    "data = data[temp]\n",
    "#data.update(data[temp].fillna(0))"
   ]
  },
  {
   "cell_type": "code",
   "execution_count": 54,
   "id": "efed5d01",
   "metadata": {},
   "outputs": [
    {
     "data": {
      "text/plain": [
       "{'Attr1': 6618,\n",
       " 'Attr2': 6593,\n",
       " 'Attr3': 6691,\n",
       " 'Attr4': 6274,\n",
       " 'Attr5': 6806,\n",
       " 'Attr6': 4202,\n",
       " 'Attr7': 6661,\n",
       " 'Attr8': 6671,\n",
       " 'Attr9': 5500,\n",
       " 'Attr10': 6621,\n",
       " 'class': 2}"
      ]
     },
     "execution_count": 54,
     "metadata": {},
     "output_type": "execute_result"
    }
   ],
   "source": [
    "{column:len(data[column].unique()) for column in data.columns}"
   ]
  },
  {
   "cell_type": "code",
   "execution_count": 55,
   "id": "01976001",
   "metadata": {},
   "outputs": [
    {
     "name": "stdout",
     "output_type": "stream",
     "text": [
      "information about the dataset\n",
      "<class 'pandas.core.frame.DataFrame'>\n",
      "RangeIndex: 7012 entries, 0 to 7011\n",
      "Data columns (total 11 columns):\n",
      " #   Column  Non-Null Count  Dtype \n",
      "---  ------  --------------  ----- \n",
      " 0   Attr1   7012 non-null   object\n",
      " 1   Attr2   7012 non-null   object\n",
      " 2   Attr3   7012 non-null   object\n",
      " 3   Attr4   7012 non-null   object\n",
      " 4   Attr5   7012 non-null   object\n",
      " 5   Attr6   7012 non-null   object\n",
      " 6   Attr7   7012 non-null   object\n",
      " 7   Attr8   7012 non-null   object\n",
      " 8   Attr9   7012 non-null   object\n",
      " 9   Attr10  7012 non-null   object\n",
      " 10  class   7012 non-null   int64 \n",
      "dtypes: int64(1), object(10)\n",
      "memory usage: 602.7+ KB\n"
     ]
    }
   ],
   "source": [
    "print(\"information about the dataset\")\n",
    "data.info()"
   ]
  },
  {
   "cell_type": "code",
   "execution_count": 56,
   "id": "23687d14",
   "metadata": {},
   "outputs": [
    {
     "data": {
      "text/plain": [
       "array([[<Axes: title={'center': 'class'}>]], dtype=object)"
      ]
     },
     "execution_count": 56,
     "metadata": {},
     "output_type": "execute_result"
    },
    {
     "data": {
      "image/png": "[encoded data removed]",
      "text/plain": [
       "<Figure size 500x500 with 1 Axes>"
      ]
     },
     "metadata": {},
     "output_type": "display_data"
    }
   ],
   "source": [
    "data.hist(figsize = (5,5))"
   ]
  },
  {
   "cell_type": "code",
   "execution_count": 57,
   "id": "e17bc2e6",
   "metadata": {},
   "outputs": [
    {
     "data": {
      "text/html": [
       "<div>\n",
       "<style scoped>\n",
       "    .dataframe tbody tr th:only-of-type {\n",
       "        vertical-align: middle;\n",
       "    }\n",
       "\n",
       "    .dataframe tbody tr th {\n",
       "        vertical-align: top;\n",
       "    }\n",
       "\n",
       "    .dataframe thead th {\n",
       "        text-align: right;\n",
       "    }\n",
       "</style>\n",
       "<table border=\"1\" class=\"dataframe\">\n",
       "  <thead>\n",
       "    <tr style=\"text-align: right;\">\n",
       "      <th></th>\n",
       "      <th>Attr1</th>\n",
       "      <th>Attr2</th>\n",
       "      <th>Attr3</th>\n",
       "      <th>Attr4</th>\n",
       "      <th>Attr5</th>\n",
       "      <th>Attr6</th>\n",
       "      <th>Attr7</th>\n",
       "      <th>Attr8</th>\n",
       "      <th>Attr9</th>\n",
       "      <th>Attr10</th>\n",
       "    </tr>\n",
       "  </thead>\n",
       "  <tbody>\n",
       "    <tr>\n",
       "      <th>0</th>\n",
       "      <td>0.20055</td>\n",
       "      <td>0.37951</td>\n",
       "      <td>0.39641</td>\n",
       "      <td>2.0472</td>\n",
       "      <td>32.351</td>\n",
       "      <td>0.38825</td>\n",
       "      <td>0.24976</td>\n",
       "      <td>1.3305</td>\n",
       "      <td>1.1389</td>\n",
       "      <td>0.50494</td>\n",
       "    </tr>\n",
       "    <tr>\n",
       "      <th>1</th>\n",
       "      <td>0.20912</td>\n",
       "      <td>0.49988</td>\n",
       "      <td>0.47225</td>\n",
       "      <td>1.9447</td>\n",
       "      <td>14.786</td>\n",
       "      <td>0</td>\n",
       "      <td>0.25834</td>\n",
       "      <td>0.99601</td>\n",
       "      <td>1.6996</td>\n",
       "      <td>0.49788</td>\n",
       "    </tr>\n",
       "    <tr>\n",
       "      <th>2</th>\n",
       "      <td>0.24866</td>\n",
       "      <td>0.69592</td>\n",
       "      <td>0.26713</td>\n",
       "      <td>1.5548</td>\n",
       "      <td>-1.1523</td>\n",
       "      <td>0</td>\n",
       "      <td>0.30906</td>\n",
       "      <td>0.43695</td>\n",
       "      <td>1.309</td>\n",
       "      <td>0.30408</td>\n",
       "    </tr>\n",
       "    <tr>\n",
       "      <th>3</th>\n",
       "      <td>0.081483</td>\n",
       "      <td>0.30734</td>\n",
       "      <td>0.45879</td>\n",
       "      <td>2.4928</td>\n",
       "      <td>51.952</td>\n",
       "      <td>0.14988</td>\n",
       "      <td>0.092704</td>\n",
       "      <td>1.8661</td>\n",
       "      <td>1.0571</td>\n",
       "      <td>0.57353</td>\n",
       "    </tr>\n",
       "    <tr>\n",
       "      <th>4</th>\n",
       "      <td>0.18732</td>\n",
       "      <td>0.61323</td>\n",
       "      <td>0.2296</td>\n",
       "      <td>1.4063</td>\n",
       "      <td>-7.3128</td>\n",
       "      <td>0.18732</td>\n",
       "      <td>0.18732</td>\n",
       "      <td>0.6307</td>\n",
       "      <td>1.1559</td>\n",
       "      <td>0.38677</td>\n",
       "    </tr>\n",
       "    <tr>\n",
       "      <th>...</th>\n",
       "      <td>...</td>\n",
       "      <td>...</td>\n",
       "      <td>...</td>\n",
       "      <td>...</td>\n",
       "      <td>...</td>\n",
       "      <td>...</td>\n",
       "      <td>...</td>\n",
       "      <td>...</td>\n",
       "      <td>...</td>\n",
       "      <td>...</td>\n",
       "    </tr>\n",
       "    <tr>\n",
       "      <th>7007</th>\n",
       "      <td>0.038665</td>\n",
       "      <td>0.071884</td>\n",
       "      <td>0.48884</td>\n",
       "      <td>7.8004</td>\n",
       "      <td>221.01</td>\n",
       "      <td>0.038665</td>\n",
       "      <td>0.045892</td>\n",
       "      <td>11.068</td>\n",
       "      <td>1.0765</td>\n",
       "      <td>0.7956</td>\n",
       "    </tr>\n",
       "    <tr>\n",
       "      <th>7008</th>\n",
       "      <td>0.001091</td>\n",
       "      <td>0.8516</td>\n",
       "      <td>0.003463</td>\n",
       "      <td>1.0086</td>\n",
       "      <td>-44.467</td>\n",
       "      <td>0.086248</td>\n",
       "      <td>0.001091</td>\n",
       "      <td>0.17429</td>\n",
       "      <td>1.0297</td>\n",
       "      <td>0.14842</td>\n",
       "    </tr>\n",
       "    <tr>\n",
       "      <th>7009</th>\n",
       "      <td>-0.091442</td>\n",
       "      <td>0.7055</td>\n",
       "      <td>-0.047216</td>\n",
       "      <td>0.92568</td>\n",
       "      <td>-7.2952</td>\n",
       "      <td>0</td>\n",
       "      <td>-0.090374</td>\n",
       "      <td>0.41744</td>\n",
       "      <td>9.1345</td>\n",
       "      <td>0.2945</td>\n",
       "    </tr>\n",
       "    <tr>\n",
       "      <th>7010</th>\n",
       "      <td>0.13809</td>\n",
       "      <td>3.3357</td>\n",
       "      <td>-2.364</td>\n",
       "      <td>0.29128</td>\n",
       "      <td>-88.382</td>\n",
       "      <td>-3.3963</td>\n",
       "      <td>0.13809</td>\n",
       "      <td>-0.70021</td>\n",
       "      <td>9.9852</td>\n",
       "      <td>-2.3357</td>\n",
       "    </tr>\n",
       "    <tr>\n",
       "      <th>7011</th>\n",
       "      <td>0.098271</td>\n",
       "      <td>0.8333</td>\n",
       "      <td>0.000426</td>\n",
       "      <td>1.0005</td>\n",
       "      <td>-43.191</td>\n",
       "      <td>0</td>\n",
       "      <td>0.12838</td>\n",
       "      <td>0.20019</td>\n",
       "      <td>2.5144</td>\n",
       "      <td>0.16682</td>\n",
       "    </tr>\n",
       "  </tbody>\n",
       "</table>\n",
       "<p>7012 rows × 10 columns</p>\n",
       "</div>"
      ],
      "text/plain": [
       "          Attr1     Attr2      Attr3    Attr4    Attr5     Attr6      Attr7  \\\n",
       "0       0.20055   0.37951    0.39641   2.0472   32.351   0.38825    0.24976   \n",
       "1       0.20912   0.49988    0.47225   1.9447   14.786         0    0.25834   \n",
       "2       0.24866   0.69592    0.26713   1.5548  -1.1523         0    0.30906   \n",
       "3      0.081483   0.30734    0.45879   2.4928   51.952   0.14988   0.092704   \n",
       "4       0.18732   0.61323     0.2296   1.4063  -7.3128   0.18732    0.18732   \n",
       "...         ...       ...        ...      ...      ...       ...        ...   \n",
       "7007   0.038665  0.071884    0.48884   7.8004   221.01  0.038665   0.045892   \n",
       "7008   0.001091    0.8516   0.003463   1.0086  -44.467  0.086248   0.001091   \n",
       "7009  -0.091442    0.7055  -0.047216  0.92568  -7.2952         0  -0.090374   \n",
       "7010    0.13809    3.3357     -2.364  0.29128  -88.382   -3.3963    0.13809   \n",
       "7011   0.098271    0.8333   0.000426   1.0005  -43.191         0    0.12838   \n",
       "\n",
       "         Attr8   Attr9   Attr10  \n",
       "0       1.3305  1.1389  0.50494  \n",
       "1      0.99601  1.6996  0.49788  \n",
       "2      0.43695   1.309  0.30408  \n",
       "3       1.8661  1.0571  0.57353  \n",
       "4       0.6307  1.1559  0.38677  \n",
       "...        ...     ...      ...  \n",
       "7007    11.068  1.0765   0.7956  \n",
       "7008   0.17429  1.0297  0.14842  \n",
       "7009   0.41744  9.1345   0.2945  \n",
       "7010  -0.70021  9.9852  -2.3357  \n",
       "7011   0.20019  2.5144  0.16682  \n",
       "\n",
       "[7012 rows x 10 columns]"
      ]
     },
     "execution_count": 57,
     "metadata": {},
     "output_type": "execute_result"
    }
   ],
   "source": [
    "x = data.drop(['class'],axis=1)\n",
    "x_scaled = pd.DataFrame(StandardScaler(copy=False).fit_transform(x))\n",
    "\n",
    "x_scaled.columns= x.columns\n",
    "x"
   ]
  },
  {
   "cell_type": "code",
   "execution_count": 58,
   "id": "1f1c3577",
   "metadata": {},
   "outputs": [
    {
     "data": {
      "text/plain": [
       "0       0\n",
       "1       0\n",
       "2       0\n",
       "3       0\n",
       "4       0\n",
       "       ..\n",
       "7007    1\n",
       "7008    1\n",
       "7009    1\n",
       "7010    1\n",
       "7011    1\n",
       "Name: class, Length: 7012, dtype: int64"
      ]
     },
     "execution_count": 58,
     "metadata": {},
     "output_type": "execute_result"
    }
   ],
   "source": [
    "y = data['class']\n",
    "y"
   ]
  },
  {
   "cell_type": "code",
   "execution_count": 59,
   "id": "6e084102",
   "metadata": {},
   "outputs": [
    {
     "data": {
      "text/plain": [
       "Attr1     0\n",
       "Attr2     0\n",
       "Attr3     0\n",
       "Attr4     0\n",
       "Attr5     0\n",
       "Attr6     0\n",
       "Attr7     0\n",
       "Attr8     0\n",
       "Attr9     0\n",
       "Attr10    0\n",
       "dtype: int64"
      ]
     },
     "execution_count": 59,
     "metadata": {},
     "output_type": "execute_result"
    }
   ],
   "source": [
    "x.isnull().sum()"
   ]
  },
  {
   "cell_type": "code",
   "execution_count": null,
   "id": "e465de61",
   "metadata": {},
   "outputs": [],
   "source": []
  },
  {
   "cell_type": "code",
   "execution_count": 60,
   "id": "4f20449c",
   "metadata": {},
   "outputs": [],
   "source": [
    "#from imblearn.under_sampling import NearMiss \n",
    "#nr = NearMiss() \n",
    "  \n",
    "#X_train_miss, y_train_miss = nr.fit_sample(X_train, y_train.ravel()) \n",
    "X_train, X_test , y_train, y_test = train_test_split(x,y, test_size= 0.3)"
   ]
  },
  {
   "cell_type": "code",
   "execution_count": 61,
   "id": "71ba5a80",
   "metadata": {},
   "outputs": [
    {
     "data": {
      "text/html": [
       "<style>#sk-container-id-4 {color: black;}#sk-container-id-4 pre{padding: 0;}#sk-container-id-4 div.sk-toggleable {background-color: white;}#sk-container-id-4 label.sk-toggleable__label {cursor: pointer;display: block;width: 100%;margin-bottom: 0;padding: 0.3em;box-sizing: border-box;text-align: center;}#sk-container-id-4 label.sk-toggleable__label-arrow:before {content: \"▸\";float: left;margin-right: 0.25em;color: #696969;}#sk-container-id-4 label.sk-toggleable__label-arrow:hover:before {color: black;}#sk-container-id-4 div.sk-estimator:hover label.sk-toggleable__label-arrow:before {color: black;}#sk-container-id-4 div.sk-toggleable__content {max-height: 0;max-width: 0;overflow: hidden;text-align: left;background-color: #f0f8ff;}#sk-container-id-4 div.sk-toggleable__content pre {margin: 0.2em;color: black;border-radius: 0.25em;background-color: #f0f8ff;}#sk-container-id-4 input.sk-toggleable__control:checked~div.sk-toggleable__content {max-height: 200px;max-width: 100%;overflow: auto;}#sk-container-id-4 input.sk-toggleable__control:checked~label.sk-toggleable__label-arrow:before {content: \"▾\";}#sk-container-id-4 div.sk-estimator input.sk-toggleable__control:checked~label.sk-toggleable__label {background-color: #d4ebff;}#sk-container-id-4 div.sk-label input.sk-toggleable__control:checked~label.sk-toggleable__label {background-color: #d4ebff;}#sk-container-id-4 input.sk-hidden--visually {border: 0;clip: rect(1px 1px 1px 1px);clip: rect(1px, 1px, 1px, 1px);height: 1px;margin: -1px;overflow: hidden;padding: 0;position: absolute;width: 1px;}#sk-container-id-4 div.sk-estimator {font-family: monospace;background-color: #f0f8ff;border: 1px dotted black;border-radius: 0.25em;box-sizing: border-box;margin-bottom: 0.5em;}#sk-container-id-4 div.sk-estimator:hover {background-color: #d4ebff;}#sk-container-id-4 div.sk-parallel-item::after {content: \"\";width: 100%;border-bottom: 1px solid gray;flex-grow: 1;}#sk-container-id-4 div.sk-label:hover label.sk-toggleable__label {background-color: #d4ebff;}#sk-container-id-4 div.sk-serial::before {content: \"\";position: absolute;border-left: 1px solid gray;box-sizing: border-box;top: 0;bottom: 0;left: 50%;z-index: 0;}#sk-container-id-4 div.sk-serial {display: flex;flex-direction: column;align-items: center;background-color: white;padding-right: 0.2em;padding-left: 0.2em;position: relative;}#sk-container-id-4 div.sk-item {position: relative;z-index: 1;}#sk-container-id-4 div.sk-parallel {display: flex;align-items: stretch;justify-content: center;background-color: white;position: relative;}#sk-container-id-4 div.sk-item::before, #sk-container-id-4 div.sk-parallel-item::before {content: \"\";position: absolute;border-left: 1px solid gray;box-sizing: border-box;top: 0;bottom: 0;left: 50%;z-index: -1;}#sk-container-id-4 div.sk-parallel-item {display: flex;flex-direction: column;z-index: 1;position: relative;background-color: white;}#sk-container-id-4 div.sk-parallel-item:first-child::after {align-self: flex-end;width: 50%;}#sk-container-id-4 div.sk-parallel-item:last-child::after {align-self: flex-start;width: 50%;}#sk-container-id-4 div.sk-parallel-item:only-child::after {width: 0;}#sk-container-id-4 div.sk-dashed-wrapped {border: 1px dashed gray;margin: 0 0.4em 0.5em 0.4em;box-sizing: border-box;padding-bottom: 0.4em;background-color: white;}#sk-container-id-4 div.sk-label label {font-family: monospace;font-weight: bold;display: inline-block;line-height: 1.2em;}#sk-container-id-4 div.sk-label-container {text-align: center;}#sk-container-id-4 div.sk-container {/* jupyter's `normalize.less` sets `[hidden] { display: none; }` but bootstrap.min.css set `[hidden] { display: none !important; }` so we also need the `!important` here to be able to override the default hidden behavior on the sphinx rendered scikit-learn.org. See: https://github.com/scikit-learn/scikit-learn/issues/21755 */display: inline-block !important;position: relative;}#sk-container-id-4 div.sk-text-repr-fallback {display: none;}</style><div id=\"sk-container-id-4\" class=\"sk-top-container\"><div class=\"sk-text-repr-fallback\"><pre>SVC(random_state=0)</pre><b>In a Jupyter environment, please rerun this cell to show the HTML representation or trust the notebook. <br />On GitHub, the HTML representation is unable to render, please try loading this page with nbviewer.org.</b></div><div class=\"sk-container\" hidden><div class=\"sk-item\"><div class=\"sk-estimator sk-toggleable\"><input class=\"sk-toggleable__control sk-hidden--visually\" id=\"sk-estimator-id-4\" type=\"checkbox\" checked><label for=\"sk-estimator-id-4\" class=\"sk-toggleable__label sk-toggleable__label-arrow\">SVC</label><div class=\"sk-toggleable__content\"><pre>SVC(random_state=0)</pre></div></div></div></div></div>"
      ],
      "text/plain": [
       "SVC(random_state=0)"
      ]
     },
     "execution_count": 61,
     "metadata": {},
     "output_type": "execute_result"
    }
   ],
   "source": [
    "from sklearn.svm import SVC\n",
    "svm=SVC(kernel='rbf', random_state=0)\n",
    "svm.fit(X_train,y_train)"
   ]
  },
  {
   "cell_type": "code",
   "execution_count": 62,
   "id": "6bfcb6a6",
   "metadata": {},
   "outputs": [
    {
     "name": "stdout",
     "output_type": "stream",
     "text": [
      "Training Set: 0.9643439282803586\n",
      "Testing Set: 0.9619771863117871\n"
     ]
    }
   ],
   "source": [
    "Y_pred_svc=svm. predict(X_test)\n",
    "print('Training Set:',svm.score(X_train,y_train))\n",
    "print('Testing Set:',svm.score(X_test,y_test))"
   ]
  },
  {
   "cell_type": "code",
   "execution_count": 63,
   "id": "1711b7c1",
   "metadata": {},
   "outputs": [
    {
     "name": "stdout",
     "output_type": "stream",
     "text": [
      "Accuracy_SVM:  96.1977186311787\n"
     ]
    }
   ],
   "source": [
    "accuracy_SVC=svm.score(X_test,y_test)\n",
    "print('Accuracy_SVM: ', accuracy_SVC*100)"
   ]
  },
  {
   "cell_type": "code",
   "execution_count": 64,
   "id": "f8e81b8a",
   "metadata": {},
   "outputs": [
    {
     "data": {
      "text/html": [
       "<style>#sk-container-id-5 {color: black;}#sk-container-id-5 pre{padding: 0;}#sk-container-id-5 div.sk-toggleable {background-color: white;}#sk-container-id-5 label.sk-toggleable__label {cursor: pointer;display: block;width: 100%;margin-bottom: 0;padding: 0.3em;box-sizing: border-box;text-align: center;}#sk-container-id-5 label.sk-toggleable__label-arrow:before {content: \"▸\";float: left;margin-right: 0.25em;color: #696969;}#sk-container-id-5 label.sk-toggleable__label-arrow:hover:before {color: black;}#sk-container-id-5 div.sk-estimator:hover label.sk-toggleable__label-arrow:before {color: black;}#sk-container-id-5 div.sk-toggleable__content {max-height: 0;max-width: 0;overflow: hidden;text-align: left;background-color: #f0f8ff;}#sk-container-id-5 div.sk-toggleable__content pre {margin: 0.2em;color: black;border-radius: 0.25em;background-color: #f0f8ff;}#sk-container-id-5 input.sk-toggleable__control:checked~div.sk-toggleable__content {max-height: 200px;max-width: 100%;overflow: auto;}#sk-container-id-5 input.sk-toggleable__control:checked~label.sk-toggleable__label-arrow:before {content: \"▾\";}#sk-container-id-5 div.sk-estimator input.sk-toggleable__control:checked~label.sk-toggleable__label {background-color: #d4ebff;}#sk-container-id-5 div.sk-label input.sk-toggleable__control:checked~label.sk-toggleable__label {background-color: #d4ebff;}#sk-container-id-5 input.sk-hidden--visually {border: 0;clip: rect(1px 1px 1px 1px);clip: rect(1px, 1px, 1px, 1px);height: 1px;margin: -1px;overflow: hidden;padding: 0;position: absolute;width: 1px;}#sk-container-id-5 div.sk-estimator {font-family: monospace;background-color: #f0f8ff;border: 1px dotted black;border-radius: 0.25em;box-sizing: border-box;margin-bottom: 0.5em;}#sk-container-id-5 div.sk-estimator:hover {background-color: #d4ebff;}#sk-container-id-5 div.sk-parallel-item::after {content: \"\";width: 100%;border-bottom: 1px solid gray;flex-grow: 1;}#sk-container-id-5 div.sk-label:hover label.sk-toggleable__label {background-color: #d4ebff;}#sk-container-id-5 div.sk-serial::before {content: \"\";position: absolute;border-left: 1px solid gray;box-sizing: border-box;top: 0;bottom: 0;left: 50%;z-index: 0;}#sk-container-id-5 div.sk-serial {display: flex;flex-direction: column;align-items: center;background-color: white;padding-right: 0.2em;padding-left: 0.2em;position: relative;}#sk-container-id-5 div.sk-item {position: relative;z-index: 1;}#sk-container-id-5 div.sk-parallel {display: flex;align-items: stretch;justify-content: center;background-color: white;position: relative;}#sk-container-id-5 div.sk-item::before, #sk-container-id-5 div.sk-parallel-item::before {content: \"\";position: absolute;border-left: 1px solid gray;box-sizing: border-box;top: 0;bottom: 0;left: 50%;z-index: -1;}#sk-container-id-5 div.sk-parallel-item {display: flex;flex-direction: column;z-index: 1;position: relative;background-color: white;}#sk-container-id-5 div.sk-parallel-item:first-child::after {align-self: flex-end;width: 50%;}#sk-container-id-5 div.sk-parallel-item:last-child::after {align-self: flex-start;width: 50%;}#sk-container-id-5 div.sk-parallel-item:only-child::after {width: 0;}#sk-container-id-5 div.sk-dashed-wrapped {border: 1px dashed gray;margin: 0 0.4em 0.5em 0.4em;box-sizing: border-box;padding-bottom: 0.4em;background-color: white;}#sk-container-id-5 div.sk-label label {font-family: monospace;font-weight: bold;display: inline-block;line-height: 1.2em;}#sk-container-id-5 div.sk-label-container {text-align: center;}#sk-container-id-5 div.sk-container {/* jupyter's `normalize.less` sets `[hidden] { display: none; }` but bootstrap.min.css set `[hidden] { display: none !important; }` so we also need the `!important` here to be able to override the default hidden behavior on the sphinx rendered scikit-learn.org. See: https://github.com/scikit-learn/scikit-learn/issues/21755 */display: inline-block !important;position: relative;}#sk-container-id-5 div.sk-text-repr-fallback {display: none;}</style><div id=\"sk-container-id-5\" class=\"sk-top-container\"><div class=\"sk-text-repr-fallback\"><pre>DecisionTreeClassifier()</pre><b>In a Jupyter environment, please rerun this cell to show the HTML representation or trust the notebook. <br />On GitHub, the HTML representation is unable to render, please try loading this page with nbviewer.org.</b></div><div class=\"sk-container\" hidden><div class=\"sk-item\"><div class=\"sk-estimator sk-toggleable\"><input class=\"sk-toggleable__control sk-hidden--visually\" id=\"sk-estimator-id-5\" type=\"checkbox\" checked><label for=\"sk-estimator-id-5\" class=\"sk-toggleable__label sk-toggleable__label-arrow\">DecisionTreeClassifier</label><div class=\"sk-toggleable__content\"><pre>DecisionTreeClassifier()</pre></div></div></div></div></div>"
      ],
      "text/plain": [
       "DecisionTreeClassifier()"
      ]
     },
     "execution_count": 64,
     "metadata": {},
     "output_type": "execute_result"
    }
   ],
   "source": [
    "from sklearn.tree import DecisionTreeClassifier\n",
    "dt= DecisionTreeClassifier()\n",
    "dt.fit(X_train,y_train)"
   ]
  },
  {
   "cell_type": "code",
   "execution_count": 65,
   "id": "74e0c06b",
   "metadata": {},
   "outputs": [
    {
     "name": "stdout",
     "output_type": "stream",
     "text": [
      "Training Set:  1.0\n",
      "Test Set:  0.9225285171102662\n"
     ]
    }
   ],
   "source": [
    "y_pred_dt=dt.predict(X_test)\n",
    "print('Training Set: ',dt.score(X_train,y_train))\n",
    "print('Test Set: ',dt.score(X_test,y_test))"
   ]
  },
  {
   "cell_type": "code",
   "execution_count": 66,
   "id": "bcf35658",
   "metadata": {},
   "outputs": [
    {
     "name": "stdout",
     "output_type": "stream",
     "text": [
      "Accuracy: 92.25285171102662\n"
     ]
    }
   ],
   "source": [
    "from sklearn import metrics\n",
    "print(\"Accuracy:\",metrics.accuracy_score(y_test, y_pred_dt)*100)"
   ]
  },
  {
   "cell_type": "code",
   "execution_count": 67,
   "id": "dd3988d5",
   "metadata": {},
   "outputs": [
    {
     "name": "stdout",
     "output_type": "stream",
     "text": [
      "Accuracy DT: 92.25285171102662\n"
     ]
    }
   ],
   "source": [
    "accuracy_dt = accuracy_score(y_test,y_pred_dt)\n",
    "print('Accuracy DT:',accuracy_dt*100)"
   ]
  },
  {
   "cell_type": "code",
   "execution_count": 68,
   "id": "42ebb855",
   "metadata": {},
   "outputs": [
    {
     "data": {
      "text/html": [
       "<style>#sk-container-id-6 {color: black;}#sk-container-id-6 pre{padding: 0;}#sk-container-id-6 div.sk-toggleable {background-color: white;}#sk-container-id-6 label.sk-toggleable__label {cursor: pointer;display: block;width: 100%;margin-bottom: 0;padding: 0.3em;box-sizing: border-box;text-align: center;}#sk-container-id-6 label.sk-toggleable__label-arrow:before {content: \"▸\";float: left;margin-right: 0.25em;color: #696969;}#sk-container-id-6 label.sk-toggleable__label-arrow:hover:before {color: black;}#sk-container-id-6 div.sk-estimator:hover label.sk-toggleable__label-arrow:before {color: black;}#sk-container-id-6 div.sk-toggleable__content {max-height: 0;max-width: 0;overflow: hidden;text-align: left;background-color: #f0f8ff;}#sk-container-id-6 div.sk-toggleable__content pre {margin: 0.2em;color: black;border-radius: 0.25em;background-color: #f0f8ff;}#sk-container-id-6 input.sk-toggleable__control:checked~div.sk-toggleable__content {max-height: 200px;max-width: 100%;overflow: auto;}#sk-container-id-6 input.sk-toggleable__control:checked~label.sk-toggleable__label-arrow:before {content: \"▾\";}#sk-container-id-6 div.sk-estimator input.sk-toggleable__control:checked~label.sk-toggleable__label {background-color: #d4ebff;}#sk-container-id-6 div.sk-label input.sk-toggleable__control:checked~label.sk-toggleable__label {background-color: #d4ebff;}#sk-container-id-6 input.sk-hidden--visually {border: 0;clip: rect(1px 1px 1px 1px);clip: rect(1px, 1px, 1px, 1px);height: 1px;margin: -1px;overflow: hidden;padding: 0;position: absolute;width: 1px;}#sk-container-id-6 div.sk-estimator {font-family: monospace;background-color: #f0f8ff;border: 1px dotted black;border-radius: 0.25em;box-sizing: border-box;margin-bottom: 0.5em;}#sk-container-id-6 div.sk-estimator:hover {background-color: #d4ebff;}#sk-container-id-6 div.sk-parallel-item::after {content: \"\";width: 100%;border-bottom: 1px solid gray;flex-grow: 1;}#sk-container-id-6 div.sk-label:hover label.sk-toggleable__label {background-color: #d4ebff;}#sk-container-id-6 div.sk-serial::before {content: \"\";position: absolute;border-left: 1px solid gray;box-sizing: border-box;top: 0;bottom: 0;left: 50%;z-index: 0;}#sk-container-id-6 div.sk-serial {display: flex;flex-direction: column;align-items: center;background-color: white;padding-right: 0.2em;padding-left: 0.2em;position: relative;}#sk-container-id-6 div.sk-item {position: relative;z-index: 1;}#sk-container-id-6 div.sk-parallel {display: flex;align-items: stretch;justify-content: center;background-color: white;position: relative;}#sk-container-id-6 div.sk-item::before, #sk-container-id-6 div.sk-parallel-item::before {content: \"\";position: absolute;border-left: 1px solid gray;box-sizing: border-box;top: 0;bottom: 0;left: 50%;z-index: -1;}#sk-container-id-6 div.sk-parallel-item {display: flex;flex-direction: column;z-index: 1;position: relative;background-color: white;}#sk-container-id-6 div.sk-parallel-item:first-child::after {align-self: flex-end;width: 50%;}#sk-container-id-6 div.sk-parallel-item:last-child::after {align-self: flex-start;width: 50%;}#sk-container-id-6 div.sk-parallel-item:only-child::after {width: 0;}#sk-container-id-6 div.sk-dashed-wrapped {border: 1px dashed gray;margin: 0 0.4em 0.5em 0.4em;box-sizing: border-box;padding-bottom: 0.4em;background-color: white;}#sk-container-id-6 div.sk-label label {font-family: monospace;font-weight: bold;display: inline-block;line-height: 1.2em;}#sk-container-id-6 div.sk-label-container {text-align: center;}#sk-container-id-6 div.sk-container {/* jupyter's `normalize.less` sets `[hidden] { display: none; }` but bootstrap.min.css set `[hidden] { display: none !important; }` so we also need the `!important` here to be able to override the default hidden behavior on the sphinx rendered scikit-learn.org. See: https://github.com/scikit-learn/scikit-learn/issues/21755 */display: inline-block !important;position: relative;}#sk-container-id-6 div.sk-text-repr-fallback {display: none;}</style><div id=\"sk-container-id-6\" class=\"sk-top-container\"><div class=\"sk-text-repr-fallback\"><pre>RandomForestClassifier(random_state=42)</pre><b>In a Jupyter environment, please rerun this cell to show the HTML representation or trust the notebook. <br />On GitHub, the HTML representation is unable to render, please try loading this page with nbviewer.org.</b></div><div class=\"sk-container\" hidden><div class=\"sk-item\"><div class=\"sk-estimator sk-toggleable\"><input class=\"sk-toggleable__control sk-hidden--visually\" id=\"sk-estimator-id-6\" type=\"checkbox\" checked><label for=\"sk-estimator-id-6\" class=\"sk-toggleable__label sk-toggleable__label-arrow\">RandomForestClassifier</label><div class=\"sk-toggleable__content\"><pre>RandomForestClassifier(random_state=42)</pre></div></div></div></div></div>"
      ],
      "text/plain": [
       "RandomForestClassifier(random_state=42)"
      ]
     },
     "execution_count": 68,
     "metadata": {},
     "output_type": "execute_result"
    }
   ],
   "source": [
    "from sklearn.ensemble import RandomForestClassifier  \n",
    "rand_forest = RandomForestClassifier(random_state=42)\n",
    "# Fit the model to the data\n",
    "rand_forest.fit(X_train, y_train)"
   ]
  },
  {
   "cell_type": "code",
   "execution_count": 69,
   "id": "76c294cb",
   "metadata": {},
   "outputs": [
    {
     "name": "stdout",
     "output_type": "stream",
     "text": [
      "Training set 1.0\n",
      "Testing set 0.9581749049429658\n"
     ]
    }
   ],
   "source": [
    "predictionRF= rand_forest.predict(X_test)\n",
    "# check the accuracy on the training set\n",
    "print('Training set',rand_forest.score(X_train,y_train))\n",
    "print('Testing set',rand_forest.score(X_test,y_test))"
   ]
  },
  {
   "cell_type": "code",
   "execution_count": 70,
   "id": "131b7d46",
   "metadata": {},
   "outputs": [
    {
     "name": "stdout",
     "output_type": "stream",
     "text": [
      "Accuracy_RF: 95.81749049429658\n"
     ]
    }
   ],
   "source": [
    "accuracy_RF=rand_forest.score(X_test, y_test)\n",
    "print (\"Accuracy_RF:\", accuracy_RF*100)"
   ]
  },
  {
   "cell_type": "code",
   "execution_count": 71,
   "id": "f610e3a6",
   "metadata": {},
   "outputs": [
    {
     "name": "stdout",
     "output_type": "stream",
     "text": [
      "          Model   Accuracy\n",
      "0           SVM  96.197719\n",
      "1  DecisionTree  92.252852\n",
      "2  Randomforest  95.817490\n"
     ]
    }
   ],
   "source": [
    "# Create a table to compare the accuracies of each model\n",
    "accuracy_df = pd.DataFrame({\n",
    "'Model': ['SVM', 'DecisionTree', 'Randomforest'],\n",
    "'Accuracy': [accuracy_SVC*100, accuracy_dt*100, accuracy_RF*100]\n",
    "})\n",
    "print (accuracy_df)"
   ]
  },
  {
   "cell_type": "code",
   "execution_count": 72,
   "id": "5c3a8e3b",
   "metadata": {},
   "outputs": [
    {
     "data": {
      "text/plain": [
       "Text(0, 0.5, 'Accuracy')"
      ]
     },
     "execution_count": 72,
     "metadata": {},
     "output_type": "execute_result"
    },
    {
     "data": {
      "image/png": "[encoded data removed]",
      "text/plain": [
       "<Figure size 640x480 with 1 Axes>"
      ]
     },
     "metadata": {},
     "output_type": "display_data"
    }
   ],
   "source": [
    "models = ['SVM', 'DecisionTree','Randomforest']\n",
    "accuracies = [accuracy_SVC*100,accuracy_dt*100,accuracy_RF*100]\n",
    "plt.bar(models, accuracies, color='blue')\n",
    "#Add title and axis Labels\n",
    "plt.title('Comparison of Model Accuracies')\n",
    "plt.xlabel('Models')\n",
    "plt.ylabel ('Accuracy')"
   ]
  },
  {
   "cell_type": "code",
   "execution_count": 73,
   "id": "a5b00334",
   "metadata": {},
   "outputs": [],
   "source": [
    "import pickle\n",
    "pickle.dump(rand_forest,open('model.pkl', 'wb'))"
   ]
  },
  {
   "cell_type": "code",
   "execution_count": 74,
   "id": "31d0b3d8",
   "metadata": {},
   "outputs": [
    {
     "name": "stdout",
     "output_type": "stream",
     "text": [
      "[0]\n"
     ]
    }
   ],
   "source": [
    "model=pickle.load(open('model.pkl','rb'))\n",
    "print (model.predict([[0.20055,0.37951,0.39641,2.0472,32.351,0.38825,0.24976,1.3305,1.1389,0.50494]]))"
   ]
  },
  {
   "cell_type": "code",
   "execution_count": null,
   "id": "53e74b34",
   "metadata": {},
   "outputs": [],
   "source": []
  },
  {
   "cell_type": "code",
   "execution_count": null,
   "id": "fbd4b92a",
   "metadata": {},
   "outputs": [],
   "source": []
  }
 ],
 "metadata": {
  "kernelspec": {
   "display_name": "Python 3 (ipykernel)",
   "language": "python",
   "name": "python3"
  },
  "language_info": {
   "codemirror_mode": {
    "name": "ipython",
    "version": 3
   },
   "file_extension": ".py",
   "mimetype": "text/x-python",
   "name": "python",
   "nbconvert_exporter": "python",
   "pygments_lexer": "ipython3",
   "version": "3.11.5"
  }
 },
 "nbformat": 4,
 "nbformat_minor": 5
}
